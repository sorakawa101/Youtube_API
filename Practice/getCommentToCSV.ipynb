{
 "cells": [
  {
   "cell_type": "code",
   "execution_count": 1,
   "metadata": {},
   "outputs": [],
   "source": [
    "import requests\n",
    "import urllib.parse as parse\n",
    "import csv\n",
    "\n",
    "import os\n",
    "from dotenv import load_dotenv\n",
    "load_dotenv()\n",
    "\n",
    "\n",
    "API_KEY = os.environ['API_KEY']\n",
    "COMMENT_URL = os.environ['COMMENT_URL']\n",
    "URL_HEAD = COMMENT_URL + '?'\n",
    "\n",
    "\n",
    "import src.video_id as vid\n",
    "import src.channel_id as cid\n",
    "\n",
    "nextPageToken = ''\n",
    "item_count = 0\n",
    "items_output = [\n",
    "    ['videoId']+\n",
    "    ['textDisplay']+\n",
    "    ['textOriginal']+\n",
    "    ['authorDisplayName']+\n",
    "    ['authorProfileImageUrl']+\n",
    "    ['authorChannelUrl']+\n",
    "    ['authorChannelId']+\n",
    "    ['canRate']+\n",
    "    ['viewerRating']+\n",
    "    ['likeCount']+\n",
    "    ['publishedAt']+\n",
    "    ['updatedAt']\n",
    "]"
   ]
  },
  {
   "cell_type": "code",
   "execution_count": 2,
   "metadata": {},
   "outputs": [],
   "source": [
    "#パラメータ設定\n",
    "video_id = vid.VIDEO_ID[0]\n",
    "channelId = cid.CHANNEL_ID[0]\n",
    "# 1リクエスト(exe_num=1)で100件のコメントを取得できるようになっている\n",
    "exe_num = 10"
   ]
  },
  {
   "cell_type": "code",
   "execution_count": 3,
   "metadata": {},
   "outputs": [
    {
     "name": "stdout",
     "output_type": "stream",
     "text": [
      "100件\n",
      "200件\n",
      "300件\n",
      "400件\n",
      "500件\n",
      "600件\n",
      "700件\n",
      "800件\n",
      "900件\n",
      "1000件\n"
     ]
    }
   ],
   "source": [
    "for i in range(exe_num):\n",
    "\n",
    "    #APIパラメータセット\n",
    "    param = {\n",
    "        'key':API_KEY,\n",
    "        'part':'snippet',\n",
    "        #----↓フィルタ（いずれか1つ）↓-------\n",
    "        # 'allThreadsRelatedToChannelId':channelId,\n",
    "        'videoId':video_id,\n",
    "        #----↑フィルタ（いずれか1つ）↑-------\n",
    "        'maxResults':'100',\n",
    "        'moderationStatus':'published',\n",
    "        'order':'relevance',\n",
    "        'pageToken':nextPageToken,\n",
    "        'searchTerms':'',\n",
    "        'textFormat':'plainText',\n",
    "    }\n",
    "    #リクエストURL作成\n",
    "    target_url = URL_HEAD + (parse.urlencode(param))\n",
    "\n",
    "    #データ取得\n",
    "    res = requests.get(target_url).json()\n",
    "\n",
    "    #件数\n",
    "    item_count += len(res['items'])\n",
    "\n",
    "    #print(target_url)\n",
    "    print(str(item_count)+\"件\")\n",
    "\n",
    "    #コメント情報を変数に格納\n",
    "    for item in res['items']:\n",
    "        items_output.append(\n",
    "            [str(item['snippet']['topLevelComment']['snippet']['videoId'])]+\n",
    "            [str(item['snippet']['topLevelComment']['snippet']['textDisplay'].replace('\\n', ''))]+\n",
    "            [str(item['snippet']['topLevelComment']['snippet']['textOriginal'])]+\n",
    "            [str(item['snippet']['topLevelComment']['snippet']['authorDisplayName'])]+\n",
    "            [str(item['snippet']['topLevelComment']['snippet']['authorProfileImageUrl'])]+\n",
    "            [str(item['snippet']['topLevelComment']['snippet']['authorChannelUrl'])]+\n",
    "            [str(item['snippet']['topLevelComment']['snippet']['authorChannelId']['value'])]+\n",
    "            [str(item['snippet']['topLevelComment']['snippet']['canRate'])]+\n",
    "            [str(item['snippet']['topLevelComment']['snippet']['viewerRating'])]+\n",
    "            [str(item['snippet']['topLevelComment']['snippet']['likeCount'])]+\n",
    "            [str(item['snippet']['topLevelComment']['snippet']['publishedAt'])]+\n",
    "            [str(item['snippet']['topLevelComment']['snippet']['updatedAt'])]\n",
    "        )\n",
    "\n",
    "    #nextPageTokenがなくなったら処理ストップ\n",
    "    if 'nextPageToken' in res:\n",
    "        nextPageToken = res['nextPageToken']\n",
    "    else:\n",
    "        break"
   ]
  },
  {
   "cell_type": "code",
   "execution_count": 4,
   "metadata": {},
   "outputs": [],
   "source": [
    "#CSVで出力\n",
    "f = open('youtube-comments-list.csv', 'w', newline='', encoding='UTF-8')\n",
    "writer = csv.writer(f)\n",
    "writer.writerows(items_output)\n",
    "f.close()"
   ]
  }
 ],
 "metadata": {
  "kernelspec": {
   "display_name": "Python 3.9.4 64-bit ('3.9.4')",
   "language": "python",
   "name": "python3"
  },
  "language_info": {
   "codemirror_mode": {
    "name": "ipython",
    "version": 3
   },
   "file_extension": ".py",
   "mimetype": "text/x-python",
   "name": "python",
   "nbconvert_exporter": "python",
   "pygments_lexer": "ipython3",
   "version": "3.9.4"
  },
  "orig_nbformat": 4,
  "vscode": {
   "interpreter": {
    "hash": "4706f29cac928ef508a0c15ae69014c2de2959315c5c66931b07ac2fcf51dd21"
   }
  }
 },
 "nbformat": 4,
 "nbformat_minor": 2
}
