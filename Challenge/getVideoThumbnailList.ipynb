{
 "cells": [
  {
   "cell_type": "code",
   "execution_count": null,
   "metadata": {},
   "outputs": [],
   "source": [
    "from googleapiclient.discovery import build\n",
    "import json\n",
    "import datetime\n",
    "from dateutil.relativedelta import relativedelta\n",
    "\n",
    "# チャンネルIDを別ファイルから取得\n",
    "import src.channelId as cid\n",
    "import src.videoId as vid\n",
    "\n",
    "# 必要モジュールのインポート\n",
    "import os\n",
    "from dotenv import load_dotenv\n",
    "\n",
    "# .envファイルの内容を読み込見込む\n",
    "load_dotenv()\n",
    "\n",
    "# API情報\n",
    "API_KEY = os.environ['API_KEY']\n",
    "API_NAME = 'youtube'\n",
    "API_VERSION = 'v3'\n",
    "\n",
    "video_id_list = [] # 動画IDをリストとして取得\n",
    "video_info_list = [] # APIで取得した動画情報を格納する配列"
   ]
  },
  {
   "cell_type": "code",
   "execution_count": null,
   "metadata": {},
   "outputs": [],
   "source": [
    "def getVideoThumbnailList(page_token, start_date, end_date, channel_id=cid.CHANNEL_ID[0]):\n",
    "    youtube = build(\n",
    "        API_NAME,\n",
    "        API_VERSION,\n",
    "        developerKey = API_KEY\n",
    "    )\n",
    "\n",
    "    # 以下で指定した結果を格納する変数\n",
    "    search_response = youtube.search().list(\n",
    "        channelId = channel_id,\n",
    "        part = 'snippet',\n",
    "        # fields='items(id,snippet(title,description,publishedAt),contentDetails(duration),statistics(viewCount,likeCount,dislikeCount,commentCount))',\n",
    "        type = 'video',\n",
    "        maxResults = 50,                # search()1回で取得できる上限が50件（指定できるのは 0~50）\n",
    "        publishedAfter = start_date,    # この日から\n",
    "        publishedBefore = end_date,     # この日まで\n",
    "        pageToken = page_token\n",
    "    ).execute()\n",
    "\n",
    "\n",
    "    # この回で取得できる総件数\n",
    "    print(search_response[\"pageInfo\"][\"totalResults\"])\n",
    "\n",
    "\n",
    "    for search_result in search_response.get(\"items\", []):\n",
    "\n",
    "        # 取得した情報の分類が”動画”の場合（e.g. チャンネル：\"youtube#channel\" / プレイリスト：\"youtube#playlist\"）\n",
    "        if search_result[\"id\"][\"kind\"] == \"youtube#video\":\n",
    "\n",
    "            # 選択したデータから辞書を作成する\n",
    "            d = {'id': search_result[\"id\"][\"videoId\"],}\n",
    "\n",
    "            # 動画IDをリストに追加\n",
    "            video_id_list.append(search_result[\"id\"][\"videoId\"])\n",
    "\n",
    "\n",
    "    # 動画IDを表示\n",
    "    print(video_id_list)\n",
    "\n",
    "\n",
    "    try:\n",
    "        nextPage_token =  search_response[\"nextPage_Token\"]\n",
    "        # print(nextPage_token)\n",
    "        getVideoThumbnailList(nextPage_token, start_date, end_date)\n",
    "    except:\n",
    "        return"
   ]
  },
  {
   "cell_type": "code",
   "execution_count": null,
   "metadata": {},
   "outputs": [],
   "source": [
    "# 指定した日付から1ヶ月分のデータを取得\n",
    "dt = datetime.datetime(2022, 1, 1, 0, 0)\n",
    "\n",
    "# 指定した日時をisoフォーマットで表示\n",
    "print(dt.isoformat())\n",
    "\n",
    "# month=1の数字を変えると〜ヶ月分のデータ取得\n",
    "# getVideoIdFromChannelId('', dt.isoformat()+'Z', (dt + relativedelta(months=1)).isoformat()+'Z')\n",
    "getVideoThumbnailList('', dt.isoformat()+'Z', (dt + relativedelta(months=1)).isoformat()+'Z')"
   ]
  },
  {
   "cell_type": "code",
   "execution_count": null,
   "metadata": {},
   "outputs": [],
   "source": [
    "# 選択した動画情報をjsonファイルに書き込む\n",
    "with open(\"./result/result.json\", mode=\"w\", encoding=\"utf-8\") as f_result:\n",
    "    # 辞書をjsonファイルとして保存 json.dump(辞書, ファイルオブジェクト, ensure_ascii, インデント)\n",
    "    json.dump(video_info_list, f_result, ensure_ascii=False, indent=2)"
   ]
  }
 ],
 "metadata": {
  "kernelspec": {
   "display_name": "Python 3.9.4 64-bit ('3.9.4')",
   "language": "python",
   "name": "python3"
  },
  "language_info": {
   "name": "python",
   "version": "3.9.4"
  },
  "orig_nbformat": 4,
  "vscode": {
   "interpreter": {
    "hash": "4706f29cac928ef508a0c15ae69014c2de2959315c5c66931b07ac2fcf51dd21"
   }
  }
 },
 "nbformat": 4,
 "nbformat_minor": 2
}
