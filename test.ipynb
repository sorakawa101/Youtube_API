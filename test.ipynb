{
 "cells": [
  {
   "cell_type": "code",
   "execution_count": 7,
   "metadata": {},
   "outputs": [
    {
     "name": "stdout",
     "output_type": "stream",
     "text": [
      "Suisei Channel\n",
      "Stellar Stellar / 星街すいせい(official)\n"
     ]
    }
   ],
   "source": [
    "# NOTE: 動画IDからチャンネル名、動画タイトルを取得するプログラム\n",
    "\n",
    "from googleapiclient.discovery import build\n",
    "\n",
    "# 必要モジュールのインポート\n",
    "import os\n",
    "from dotenv import load_dotenv\n",
    "\n",
    "# .envファイルの内容を読み込見込む\n",
    "load_dotenv()\n",
    "\n",
    "import src.video_id as vid\n",
    "videoId = vid.VIDEO_ID[0]\n",
    "YOUTUBE_API_KEY = os.environ['API_KEY']\n",
    "\n",
    "youtube = build('youtube', 'v3', developerKey=YOUTUBE_API_KEY)\n",
    "videos_response = youtube.videos().list(\n",
    "    part='snippet,statistics',\n",
    "    id='{},'.format(videoId)\n",
    ").execute()\n",
    "# snippet\n",
    "snippetInfo = videos_response[\"items\"][0][\"snippet\"]\n",
    "# 動画タイトル\n",
    "title = snippetInfo['title']\n",
    "# チャンネル名\n",
    "channeltitle = snippetInfo['channelTitle']\n",
    "print(channeltitle)\n",
    "print(title)"
   ]
  },
  {
   "cell_type": "code",
   "execution_count": 13,
   "metadata": {},
   "outputs": [
    {
     "name": "stdout",
     "output_type": "stream",
     "text": [
      "Suisei Channel\n",
      "灼熱にて純情(wii-wii-woo) / 星街すいせい(official)\n",
      "Suisei Channel\n",
      "【3DLIVE】遂に復帰‼重大告知ライブ【#星街すいせい重大告知】\n",
      "カットライブ / CutLive \n",
      "運動会のファンマークですいちゃんだけアレンジが入っていたことを知り、エモさを感じるわためぇ【角巻わため/星街すいせい/ホロライブ切り抜き】\n",
      "Vつべの助かる切り抜き\n",
      "ストーカーすいちゃん と怯えるあくたん(たまにデレる)のコラボシーンまとめ【湊あくあ/星街すいせい/ホロライブ切り抜き】\n",
      "Suisei Channel\n",
      "Stellar Stellar / 星街すいせい(official)\n"
     ]
    }
   ],
   "source": [
    "# NOTE:検索キーワードからチャンネル名、動画タイトルを複数取得するプログラム\n",
    "\n",
    "from ast import keyword\n",
    "from googleapiclient.discovery import build\n",
    "\n",
    "keyword = '星街すいせい'\n",
    "YOUTUBE_API_KEY = os.environ['API_KEY']\n",
    "\n",
    "youtube = build('youtube', 'v3', developerKey=YOUTUBE_API_KEY)\n",
    "search_responses = youtube.search().list(\n",
    "    q=keyword,\n",
    "    part='snippet',\n",
    "    type='video',\n",
    "    regionCode=\"jp\",\n",
    "    maxResults=5,# 5~50まで\n",
    ").execute()\n",
    "\n",
    "for search_response in search_responses['items']:\n",
    "    # snippet\n",
    "    snippetInfo = search_response['snippet']\n",
    "    # 動画タイトル\n",
    "    title = snippetInfo['title']\n",
    "    # チャンネル名\n",
    "    channeltitle = snippetInfo['channelTitle']\n",
    "    print(channeltitle)\n",
    "    print(title)"
   ]
  }
 ],
 "metadata": {
  "kernelspec": {
   "display_name": "Python 3.9.4 64-bit ('3.9.4')",
   "language": "python",
   "name": "python3"
  },
  "language_info": {
   "codemirror_mode": {
    "name": "ipython",
    "version": 3
   },
   "file_extension": ".py",
   "mimetype": "text/x-python",
   "name": "python",
   "nbconvert_exporter": "python",
   "pygments_lexer": "ipython3",
   "version": "3.9.4"
  },
  "orig_nbformat": 4,
  "vscode": {
   "interpreter": {
    "hash": "4706f29cac928ef508a0c15ae69014c2de2959315c5c66931b07ac2fcf51dd21"
   }
  }
 },
 "nbformat": 4,
 "nbformat_minor": 2
}
